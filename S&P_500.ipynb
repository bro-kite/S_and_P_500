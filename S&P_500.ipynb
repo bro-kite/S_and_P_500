{
  "nbformat": 4,
  "nbformat_minor": 0,
  "metadata": {
    "colab": {
      "name": "S&P 500.ipynb",
      "provenance": [],
      "toc_visible": true,
      "authorship_tag": "ABX9TyNPlzCKX7MKbC64/kEx+JOb"
    },
    "kernelspec": {
      "name": "python3",
      "display_name": "Python 3"
    }
  },
  "cells": [
    {
      "cell_type": "markdown",
      "metadata": {
        "id": "Qqrrbzk5dY3H",
        "colab_type": "text"
      },
      "source": [
        "##Import the libraries\n"
      ]
    },
    {
      "cell_type": "code",
      "metadata": {
        "id": "-KEcDe7ndQud",
        "colab_type": "code",
        "colab": {}
      },
      "source": [
        "import numpy as np\n",
        "import pandas as pd\n",
        "import matplotlib.pyplot as ply"
      ],
      "execution_count": 1,
      "outputs": []
    },
    {
      "cell_type": "markdown",
      "metadata": {
        "id": "u3HuE9-7dxPS",
        "colab_type": "text"
      },
      "source": [
        "##Import the dataset"
      ]
    },
    {
      "cell_type": "code",
      "metadata": {
        "id": "z1Tn9zAvd0vC",
        "colab_type": "code",
        "colab": {
          "base_uri": "https://localhost:8080/",
          "height": 379
        },
        "outputId": "1d1c73fb-6c1d-490a-c763-2875f5420bc6"
      },
      "source": [
        "dataset = pd.read_csv('US_Data.csv')\n",
        "dataset.head()\n",
        "dataset.drop(dataset.index[588:593], inplace=True)\n",
        "dataset.tail(10)"
      ],
      "execution_count": 2,
      "outputs": [
        {
          "output_type": "execute_result",
          "data": {
            "text/html": [
              "<div>\n",
              "<style scoped>\n",
              "    .dataframe tbody tr th:only-of-type {\n",
              "        vertical-align: middle;\n",
              "    }\n",
              "\n",
              "    .dataframe tbody tr th {\n",
              "        vertical-align: top;\n",
              "    }\n",
              "\n",
              "    .dataframe thead th {\n",
              "        text-align: right;\n",
              "    }\n",
              "</style>\n",
              "<table border=\"1\" class=\"dataframe\">\n",
              "  <thead>\n",
              "    <tr style=\"text-align: right;\">\n",
              "      <th></th>\n",
              "      <th>DATE</th>\n",
              "      <th>FedInterestRate</th>\n",
              "      <th>Inflation</th>\n",
              "      <th>GDP</th>\n",
              "      <th>S&amp;P500Close</th>\n",
              "      <th>UmemploymentRate</th>\n",
              "      <th>GovernmentDebtGDP</th>\n",
              "      <th>CorporateDebt</th>\n",
              "      <th>PoundDollar</th>\n",
              "      <th>DollarYen</th>\n",
              "      <th>SP5006monthslater</th>\n",
              "    </tr>\n",
              "  </thead>\n",
              "  <tbody>\n",
              "    <tr>\n",
              "      <th>578</th>\n",
              "      <td>01/03/2019</td>\n",
              "      <td>2.41</td>\n",
              "      <td>1.9</td>\n",
              "      <td>21098.827</td>\n",
              "      <td>2834.399902</td>\n",
              "      <td>3.8</td>\n",
              "      <td>1.04403</td>\n",
              "      <td>6437929.0</td>\n",
              "      <td>1.3167</td>\n",
              "      <td>111.1443</td>\n",
              "      <td>2926.459961</td>\n",
              "    </tr>\n",
              "    <tr>\n",
              "      <th>579</th>\n",
              "      <td>01/04/2019</td>\n",
              "      <td>2.42</td>\n",
              "      <td>2.0</td>\n",
              "      <td>21340.267</td>\n",
              "      <td>2945.830078</td>\n",
              "      <td>3.6</td>\n",
              "      <td>1.03201</td>\n",
              "      <td>6513808.0</td>\n",
              "      <td>1.3029</td>\n",
              "      <td>111.6414</td>\n",
              "      <td>2976.739990</td>\n",
              "    </tr>\n",
              "    <tr>\n",
              "      <th>580</th>\n",
              "      <td>01/05/2019</td>\n",
              "      <td>2.39</td>\n",
              "      <td>1.8</td>\n",
              "      <td>21340.267</td>\n",
              "      <td>2752.060059</td>\n",
              "      <td>3.6</td>\n",
              "      <td>1.03201</td>\n",
              "      <td>6513808.0</td>\n",
              "      <td>1.2855</td>\n",
              "      <td>109.9714</td>\n",
              "      <td>3037.560059</td>\n",
              "    </tr>\n",
              "    <tr>\n",
              "      <th>581</th>\n",
              "      <td>01/06/2019</td>\n",
              "      <td>2.38</td>\n",
              "      <td>1.6</td>\n",
              "      <td>21340.267</td>\n",
              "      <td>2941.760010</td>\n",
              "      <td>3.7</td>\n",
              "      <td>1.03201</td>\n",
              "      <td>6513808.0</td>\n",
              "      <td>1.2675</td>\n",
              "      <td>108.0685</td>\n",
              "      <td>3140.979980</td>\n",
              "    </tr>\n",
              "    <tr>\n",
              "      <th>582</th>\n",
              "      <td>01/07/2019</td>\n",
              "      <td>2.40</td>\n",
              "      <td>1.8</td>\n",
              "      <td>21542.540</td>\n",
              "      <td>2980.379883</td>\n",
              "      <td>3.7</td>\n",
              "      <td>1.05463</td>\n",
              "      <td>6588777.0</td>\n",
              "      <td>1.2461</td>\n",
              "      <td>108.2864</td>\n",
              "      <td>3230.780029</td>\n",
              "    </tr>\n",
              "    <tr>\n",
              "      <th>583</th>\n",
              "      <td>01/08/2019</td>\n",
              "      <td>2.13</td>\n",
              "      <td>1.7</td>\n",
              "      <td>21542.540</td>\n",
              "      <td>2926.459961</td>\n",
              "      <td>3.7</td>\n",
              "      <td>1.05463</td>\n",
              "      <td>6588777.0</td>\n",
              "      <td>1.2160</td>\n",
              "      <td>106.1886</td>\n",
              "      <td>3225.520020</td>\n",
              "    </tr>\n",
              "    <tr>\n",
              "      <th>584</th>\n",
              "      <td>01/09/2019</td>\n",
              "      <td>2.04</td>\n",
              "      <td>1.7</td>\n",
              "      <td>21542.540</td>\n",
              "      <td>2976.739990</td>\n",
              "      <td>3.5</td>\n",
              "      <td>1.05463</td>\n",
              "      <td>6588777.0</td>\n",
              "      <td>1.2369</td>\n",
              "      <td>107.5400</td>\n",
              "      <td>2954.219971</td>\n",
              "    </tr>\n",
              "    <tr>\n",
              "      <th>585</th>\n",
              "      <td>01/10/2019</td>\n",
              "      <td>1.83</td>\n",
              "      <td>1.8</td>\n",
              "      <td>21729.124</td>\n",
              "      <td>3037.560059</td>\n",
              "      <td>3.6</td>\n",
              "      <td>1.06776</td>\n",
              "      <td>6557578.0</td>\n",
              "      <td>1.2657</td>\n",
              "      <td>108.1368</td>\n",
              "      <td>2584.590088</td>\n",
              "    </tr>\n",
              "    <tr>\n",
              "      <th>586</th>\n",
              "      <td>01/11/2019</td>\n",
              "      <td>1.55</td>\n",
              "      <td>2.1</td>\n",
              "      <td>21729.124</td>\n",
              "      <td>3140.979980</td>\n",
              "      <td>3.5</td>\n",
              "      <td>1.06776</td>\n",
              "      <td>6557578.0</td>\n",
              "      <td>1.2884</td>\n",
              "      <td>108.8579</td>\n",
              "      <td>2912.429932</td>\n",
              "    </tr>\n",
              "    <tr>\n",
              "      <th>587</th>\n",
              "      <td>01/12/2019</td>\n",
              "      <td>1.55</td>\n",
              "      <td>2.3</td>\n",
              "      <td>21729.124</td>\n",
              "      <td>3230.780029</td>\n",
              "      <td>3.5</td>\n",
              "      <td>1.06776</td>\n",
              "      <td>6557578.0</td>\n",
              "      <td>1.3109</td>\n",
              "      <td>109.1010</td>\n",
              "      <td>3044.310059</td>\n",
              "    </tr>\n",
              "  </tbody>\n",
              "</table>\n",
              "</div>"
            ],
            "text/plain": [
              "           DATE  FedInterestRate  ...  DollarYen  SP5006monthslater\n",
              "578  01/03/2019             2.41  ...   111.1443        2926.459961\n",
              "579  01/04/2019             2.42  ...   111.6414        2976.739990\n",
              "580  01/05/2019             2.39  ...   109.9714        3037.560059\n",
              "581  01/06/2019             2.38  ...   108.0685        3140.979980\n",
              "582  01/07/2019             2.40  ...   108.2864        3230.780029\n",
              "583  01/08/2019             2.13  ...   106.1886        3225.520020\n",
              "584  01/09/2019             2.04  ...   107.5400        2954.219971\n",
              "585  01/10/2019             1.83  ...   108.1368        2584.590088\n",
              "586  01/11/2019             1.55  ...   108.8579        2912.429932\n",
              "587  01/12/2019             1.55  ...   109.1010        3044.310059\n",
              "\n",
              "[10 rows x 11 columns]"
            ]
          },
          "metadata": {
            "tags": []
          },
          "execution_count": 2
        }
      ]
    },
    {
      "cell_type": "code",
      "metadata": {
        "id": "7mHMA52Nh8kn",
        "colab_type": "code",
        "colab": {}
      },
      "source": [
        "X = dataset.iloc[:, 1:-1].values\n",
        "y = dataset.iloc[:, -1].values"
      ],
      "execution_count": 3,
      "outputs": []
    },
    {
      "cell_type": "markdown",
      "metadata": {
        "id": "KyFM-uQLinDf",
        "colab_type": "text"
      },
      "source": [
        "##Splitting the Dataset"
      ]
    },
    {
      "cell_type": "code",
      "metadata": {
        "id": "Gve8OudYjNkv",
        "colab_type": "code",
        "colab": {}
      },
      "source": [
        "from sklearn.model_selection import train_test_split\n",
        "X_train, X_test, y_train, y_test = train_test_split(X, y, test_size = 0.2, random_state = 1)"
      ],
      "execution_count": 4,
      "outputs": []
    },
    {
      "cell_type": "markdown",
      "metadata": {
        "id": "YUWRD7K5juc8",
        "colab_type": "text"
      },
      "source": [
        "#Training the Decision Tree Model"
      ]
    },
    {
      "cell_type": "code",
      "metadata": {
        "id": "oDlw_5t-jzs-",
        "colab_type": "code",
        "colab": {
          "base_uri": "https://localhost:8080/",
          "height": 119
        },
        "outputId": "0f67fc15-8e86-43d2-bcb1-3d4fa5af853e"
      },
      "source": [
        "from sklearn.tree import DecisionTreeRegressor\n",
        "regressor = DecisionTreeRegressor(random_state= 1)\n",
        "regressor.fit(X_train, y_train)"
      ],
      "execution_count": 5,
      "outputs": [
        {
          "output_type": "execute_result",
          "data": {
            "text/plain": [
              "DecisionTreeRegressor(ccp_alpha=0.0, criterion='mse', max_depth=None,\n",
              "                      max_features=None, max_leaf_nodes=None,\n",
              "                      min_impurity_decrease=0.0, min_impurity_split=None,\n",
              "                      min_samples_leaf=1, min_samples_split=2,\n",
              "                      min_weight_fraction_leaf=0.0, presort='deprecated',\n",
              "                      random_state=1, splitter='best')"
            ]
          },
          "metadata": {
            "tags": []
          },
          "execution_count": 5
        }
      ]
    },
    {
      "cell_type": "markdown",
      "metadata": {
        "id": "Zc8cMuJAoLyX",
        "colab_type": "text"
      },
      "source": [
        "##Predict Results"
      ]
    },
    {
      "cell_type": "code",
      "metadata": {
        "id": "yqS6KDvZoP0o",
        "colab_type": "code",
        "colab": {
          "base_uri": "https://localhost:8080/",
          "height": 34
        },
        "outputId": "b8d3160f-1673-47cd-b0ac-b12f05cc5d7b"
      },
      "source": [
        "#latest_data = (Fed interest rate, Inflation, GDP, S&P500 close, Unemployment rate,\n",
        "# Government debt to GDP ratio, Total coporate debt, GBP/Dollar, Dollar/Yen)\n",
        "latest_data = 0.25, 0.1, 21200, 3049.63, 13.30, 1.0690, 6781622, 1.24184, 107.19 \n",
        "y_pred = regressor.predict([[0.25, 0.1, 21200, 3049.63, 13.30, 1.0690, 6781622, 1.24184, 107.19]])\n",
        "print(y_pred)"
      ],
      "execution_count": 6,
      "outputs": [
        {
          "output_type": "stream",
          "text": [
            "[2238.830078]\n"
          ],
          "name": "stdout"
        }
      ]
    },
    {
      "cell_type": "code",
      "metadata": {
        "id": "l-4oLfP3rziu",
        "colab_type": "code",
        "colab": {
          "base_uri": "https://localhost:8080/",
          "height": 1000
        },
        "outputId": "41efc51d-e317-4477-c368-5e791f0892bd"
      },
      "source": [
        "y_pred = regressor.predict(X_test)\n",
        "np.set_printoptions(precision=2)\n",
        "print(np.concatenate((y_pred.reshape(len(y_pred),1), y_test.reshape(len(y_test),1)),1))"
      ],
      "execution_count": 7,
      "outputs": [
        {
          "output_type": "stream",
          "text": [
            "[[1805.81 1681.55]\n",
            " [2640.87 2705.27]\n",
            " [ 111.52  104.95]\n",
            " [2823.81 2519.36]\n",
            " [  99.93   96.11]\n",
            " [ 131.27  131.21]\n",
            " [  95.58   98.7 ]\n",
            " [ 182.08  189.82]\n",
            " [ 273.5   271.91]\n",
            " [1920.03 1972.18]\n",
            " [ 182.08  202.17]\n",
            " [1438.24 1473.99]\n",
            " [ 885.14  899.47]\n",
            " [  94.7    93.15]\n",
            " [  87.3    91.15]\n",
            " [1397.91 1310.33]\n",
            " [1191.33 1234.18]\n",
            " [ 116.18  121.89]\n",
            " [1454.6  1452.43]\n",
            " [ 284.2   274.08]\n",
            " [2506.85 2704.1 ]\n",
            " [1363.61 1325.83]\n",
            " [ 288.36  291.7 ]\n",
            " [ 179.83  180.66]\n",
            " [ 102.03  107.46]\n",
            " [1115.1  1036.19]\n",
            " [ 343.93  367.07]\n",
            " [1372.71 1320.64]\n",
            " [ 414.03  431.35]\n",
            " [ 107.14  107.39]\n",
            " [ 417.09  408.78]\n",
            " [1378.55 1468.36]\n",
            " [ 450.19  440.19]\n",
            " [  99.93   96.28]\n",
            " [1049.34  916.92]\n",
            " [ 444.27  458.26]\n",
            " [ 105.24  102.1 ]\n",
            " [1249.48 1248.29]\n",
            " [  83.36   88.75]\n",
            " [ 101.64  100.18]\n",
            " [ 235.52  247.35]\n",
            " [ 459.27  470.42]\n",
            " [  63.54   69.97]\n",
            " [ 687.33  786.16]\n",
            " [1400.38 1377.94]\n",
            " [ 113.66  111.24]\n",
            " [2043.94 1940.24]\n",
            " [ 387.86  395.43]\n",
            " [2198.81 2168.27]\n",
            " [ 122.55  125.46]\n",
            " [ 757.12  757.02]\n",
            " [ 163.58  166.1 ]\n",
            " [ 111.88  109.61]\n",
            " [ 251.79  321.83]\n",
            " [2096.95 2065.3 ]\n",
            " [ 133.72  120.42]\n",
            " [ 346.08  351.45]\n",
            " [ 116.03  116.67]\n",
            " [ 163.41  166.07]\n",
            " [1249.48 1106.73]\n",
            " [2760.17 2711.74]\n",
            " [ 322.22  304.  ]\n",
            " [1049.33 1144.94]\n",
            " [2954.22 3230.78]\n",
            " [2718.37 2816.29]\n",
            " [2063.11 2059.74]\n",
            " [1282.83 1267.38]\n",
            " [ 450.91  467.83]\n",
            " [ 130.92  132.59]\n",
            " [ 108.29   95.96]\n",
            " [1160.33 1366.01]\n",
            " [ 581.5   584.41]\n",
            " [ 102.54  100.68]\n",
            " [ 403.69  414.95]\n",
            " [1454.6  1498.58]\n",
            " [ 251.79  230.3 ]\n",
            " [1388.91 1282.71]\n",
            " [1327.22 1286.12]\n",
            " [1372.71 1366.42]\n",
            " [ 533.4   514.71]\n",
            " [ 989.82  916.07]\n",
            " [1400.38 1280.  ]\n",
            " [2954.22 3225.52]\n",
            " [ 181.18  167.24]\n",
            " [2198.81 2126.15]\n",
            " [ 353.4   329.08]\n",
            " [ 651.99  705.27]\n",
            " [2043.94 1932.23]\n",
            " [  99.03   98.34]\n",
            " [1156.85 1191.5 ]\n",
            " [ 107.67  107.2 ]\n",
            " [1133.84 1090.82]\n",
            " [1270.2  1303.82]\n",
            " [ 533.4   500.71]\n",
            " [1994.99 2067.56]\n",
            " [2063.11 2103.84]\n",
            " [ 459.27  487.39]\n",
            " [1429.4  1436.51]\n",
            " [2823.81 2713.83]\n",
            " [1440.67 1498.11]\n",
            " [1549.38 1420.6 ]\n",
            " [2362.72 2098.86]\n",
            " [1363.61 1312.41]\n",
            " [  98.44   98.42]\n",
            " [  63.54   73.9 ]\n",
            " [1049.34  963.59]\n",
            " [ 257.07  304.  ]\n",
            " [1270.09 1294.87]\n",
            " [ 103.94   93.99]\n",
            " [ 163.58  166.09]\n",
            " [2648.05 2673.61]\n",
            " [  79.31   72.15]\n",
            " [ 825.88  896.24]\n",
            " [  94.7    96.83]\n",
            " [1104.49 1073.87]\n",
            " [1030.71 1089.41]\n",
            " [1335.18 1301.84]\n",
            " [  87.28   90.31]]\n"
          ],
          "name": "stdout"
        }
      ]
    },
    {
      "cell_type": "markdown",
      "metadata": {
        "id": "s3hRNRjXo8MJ",
        "colab_type": "text"
      },
      "source": [
        "##Evaluating Model Performance"
      ]
    },
    {
      "cell_type": "code",
      "metadata": {
        "id": "wEX_JyMuo_zK",
        "colab_type": "code",
        "colab": {
          "base_uri": "https://localhost:8080/",
          "height": 34
        },
        "outputId": "ff0d1a68-b5a8-46eb-da70-d39e3a6a6466"
      },
      "source": [
        "from sklearn.metrics import r2_score\n",
        "r2_score(y_test, y_pred)"
      ],
      "execution_count": 8,
      "outputs": [
        {
          "output_type": "execute_result",
          "data": {
            "text/plain": [
              "0.9918931715601333"
            ]
          },
          "metadata": {
            "tags": []
          },
          "execution_count": 8
        }
      ]
    }
  ]
}